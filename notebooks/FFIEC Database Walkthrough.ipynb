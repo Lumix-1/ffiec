{
 "cells": [
  {
   "cell_type": "markdown",
   "metadata": {},
   "source": [
    "# etlFFIEC Database Walkabout\n",
    "There are four tables in the database. They are `dictionary`, `institution`, `period`, and `report`.\n",
    "\n",
    "Each is detailed below. At the bottom, there's an example of analysis with pandas and SQL."
   ]
  },
  {
   "cell_type": "code",
   "execution_count": null,
   "metadata": {},
   "outputs": [],
   "source": [
    "import json\n",
    "from datetime import datetime\n",
    "from pprint import pprint\n",
    "\n",
    "import happybase\n",
    "import pandas\n",
    "import pandasql\n",
    "import matplotlib\n",
    "\n",
    "HBASE = 'node1.hwr.io'  # CHANGE ME\n",
    "SAMPLE_BANKS = (131034, 720858, 229342, 819172, 65513, 753641)\n",
    "\n",
    "def stringify_dict(dictionary):\n",
    "    # Because everything in Hbase is a byte-array,\n",
    "    # we need to convert the keys/values of retrieved dictionaries into unicode strings\n",
    "    \n",
    "    # also, mildly annoying, but the dict keys retain the Hbase column name, pop that off\n",
    "    return {key.decode('utf-8').split(':', 1).pop(-1): \n",
    "            value.decode('utf-8') for key,value in dictionary.items()}\n",
    "\n",
    "def period_to_datetime(period):\n",
    "    return datetime.strptime(period, '%m/%d/%Y')\n",
    "\n",
    "def datetime_to_period(value):\n",
    "    return datetime.strftime(value, '%m/%d/%Y')\n",
    "\n",
    "def filter_periods(periods, count, reverse):\n",
    "    # convert string datestamps to python datetime, sort, return a slice of `count` length\n",
    "    periods_we_care_about = [period_to_datetime(k) for k in periods]\n",
    "    periods_we_care_about.sort(reverse=reverse)\n",
    "    return[datetime_to_period(k) for k in periods_we_care_about[:count]]"
   ]
  },
  {
   "cell_type": "markdown",
   "metadata": {},
   "source": [
    "# The `dictionary` table\n",
    "\n",
    "`dictionary` has column `M`, for Metadata. The row-key format for `dictionary` is the MDRM mnemonic and item code appended together, making the MDRM Identifier. It's eight all-uppercase alphanumeric characters, and looks something like this `RCON2170`.\n",
    "\n",
    "This is the only table not populated from the FFIEC CDR. Instead, it is loaded from a CSV file downloaded from the Federal Reserve. Since this CSV essentially becomes a dependancy of the project, it is dowloaded into the docker image at build time. This table is populated in two scenarios, either when the `--init` flag is passed or when the `--update-metadata` flag is passed. "
   ]
  },
  {
   "cell_type": "code",
   "execution_count": null,
   "metadata": {},
   "outputs": [],
   "source": [
    "# Scan the entire dictionary table into memory\n",
    "hbase = happybase.Connection(HBASE)\n",
    "dictionary = hbase.table('dictionary')\n",
    "items = [item for item in dictionary.scan()]\n",
    "\n",
    "mdrm = {}\n",
    "for row, document in items:\n",
    "    mdrm[row.decode('utf-8')] = stringify_dict(document)"
   ]
  },
  {
   "cell_type": "code",
   "execution_count": null,
   "metadata": {},
   "outputs": [],
   "source": [
    "for k,v in mdrm.items():\n",
    "    pprint(k)\n",
    "    pprint(v)\n",
    "    break\n",
    "    \n",
    "# pay no mind to the encoding!"
   ]
  },
  {
   "cell_type": "markdown",
   "metadata": {},
   "source": [
    "# The `period` table\n",
    "\n",
    "`period` has column `I`, for institution. The row-key for `period` is the datestamp format used by the FFIEC to represent a reporting period. This table is used for looking up all institutions which have filed call reports for a given reporting period. Each column value is a json-encoded document of metadata about the institution at the given period."
   ]
  },
  {
   "cell_type": "code",
   "execution_count": null,
   "metadata": {},
   "outputs": [],
   "source": [
    "hbase = happybase.Connection(HBASE)\n",
    "period_table = hbase.table('period')\n",
    "\n",
    "periods = {}\n",
    "for row, value in period_table.scan():\n",
    "    document = stringify_dict(value)\n",
    "    for key in document:\n",
    "        document[key] = json.loads(document[key])\n",
    "    \n",
    "    periods[row.decode('utf-8')] = document\n"
   ]
  },
  {
   "cell_type": "code",
   "execution_count": null,
   "metadata": {},
   "outputs": [],
   "source": [
    "for k,v in periods.items():\n",
    "    pprint(k)\n",
    "    pprint(v)\n",
    "    break"
   ]
  },
  {
   "cell_type": "markdown",
   "metadata": {},
   "source": [
    "# The `institution` table\n",
    "`institution` has column `P`, for period. The row-key format is an [RSSDID](https://www.alacra.com/alacra/outside/lei/info/rssdid.html) which stands for 'Replication Server System Database ID', got all that? This table is used for looking up all reporting periods in which you'll find call reports for the given institution. \n"
   ]
  },
  {
   "cell_type": "code",
   "execution_count": null,
   "metadata": {},
   "outputs": [],
   "source": [
    "hbase = happybase.Connection(HBASE)\n",
    "institution_table = hbase.table('institution')\n",
    "\n",
    "institutions = {}\n",
    "for row, value in institution_table.scan():\n",
    "    document = stringify_dict(value)\n",
    "    for key in document:\n",
    "        document[key] = json.loads(document[key])\n",
    "    \n",
    "    institutions[row.decode('utf-8')] = document"
   ]
  },
  {
   "cell_type": "code",
   "execution_count": null,
   "metadata": {},
   "outputs": [],
   "source": [
    "for  k,v in institutions.items():\n",
    "    pprint(k)\n",
    "    pprint(v)\n",
    "    break"
   ]
  },
  {
   "cell_type": "code",
   "execution_count": null,
   "metadata": {},
   "outputs": [],
   "source": [
    "hbase = happybase.Connection('node1.hwr.io', timeout=300000)  # connection with 5-minute timeout\n",
    "reports_table = hbase.table('report')\n",
    "\n",
    "# One usability improvement would be to reverse the order of the report period datastamp,\n",
    "# which would allow for scanning institution by year, like `row_prefix=b'534242-2017'`\n",
    "\n",
    "# having period formatted '%Y-%m-%d' would suit sqlite's date function as well\n",
    "\n",
    "# It may also be better to create a document for each reported metric, \n",
    "# in the same fashion as the `institution` and `period` tables,\n",
    "# rather than N column entries for N fields\n",
    "\n",
    "# Regardless, this is the time to go get coffee\n",
    "call_reports = {}\n",
    "for bank in SAMPLE_BANKS:\n",
    "    prefix = bytes('{}-'.format(bank), 'utf-8')\n",
    "    for row, report in reports_table.scan(row_prefix=prefix):\n",
    "        call_reports[row.decode('utf-8')] = stringify_dict(report)"
   ]
  },
  {
   "cell_type": "code",
   "execution_count": null,
   "metadata": {},
   "outputs": [],
   "source": [
    "for k,v in call_reports.items():\n",
    "    pprint(k)\n",
    "    pprint(v)\n",
    "    break"
   ]
  },
  {
   "cell_type": "code",
   "execution_count": null,
   "metadata": {},
   "outputs": [],
   "source": [
    "# dig for interesting asset-related reports, enrich the item_name\n",
    "\n",
    "possible_relevant_fields = {}\n",
    "\n",
    "for key, value in mdrm.items():\n",
    "    item_type = value['item_type']\n",
    "    item_name = value['item_name'].lower()\n",
    "    if 'total asset' in item_name:   \n",
    "        possible_relevant_fields[key] = '{} {}'.format(item_type, item_name)"
   ]
  },
  {
   "cell_type": "code",
   "execution_count": null,
   "metadata": {},
   "outputs": [],
   "source": [
    "pprint(possible_relevent_fields)"
   ]
  },
  {
   "cell_type": "code",
   "execution_count": null,
   "metadata": {
    "scrolled": true
   },
   "outputs": [],
   "source": [
    "# process call_reports into a time-series\n",
    "data = []\n",
    "for row_key, call_report in call_reports.items():  \n",
    "    rssd, period = row_key.split('-')\n",
    "    \n",
    "    for key, value in call_report.items():\n",
    "        mdrm_id, name = key.split(':')\n",
    "        \n",
    "        if mdrm_id not in possible_relevant_fields:\n",
    "            continue\n",
    "        \n",
    "        if name != 'value':\n",
    "            continue\n",
    "                \n",
    "        try:\n",
    "            value = float(value)\n",
    "            if value.is_integer():\n",
    "                value = int(value)\n",
    "        except ValueError:\n",
    "            pass\n",
    "\n",
    "        if isinstance(value, str) and not value:\n",
    "            value = None\n",
    "            \n",
    "        data.append({'institution': institutions[rssd][period]['Name'],\n",
    "                     'mdrm': mdrm_id,\n",
    "                     'type': mdrm[mdrm_id]['item_type'],\n",
    "                     'name': mdrm[mdrm_id]['item_name'],\n",
    "                     'rssd': int(rssd), \n",
    "                     'value': value,\n",
    "                     'period': period_to_datetime(period)})"
   ]
  },
  {
   "cell_type": "code",
   "execution_count": null,
   "metadata": {},
   "outputs": [],
   "source": [
    "for k,v in data.items():\n",
    "    pprint(k)\n",
    "    pprint(v)\n",
    "    break"
   ]
  },
  {
   "cell_type": "markdown",
   "metadata": {},
   "source": [
    "\n",
    "# Ok, so can you answer the question?\n",
    "> how has asset growth over time compared with other / similar banks?\n",
    "\n",
    "We'll look at MDRM ID RCON2170, derrived total assets."
   ]
  },
  {
   "cell_type": "code",
   "execution_count": null,
   "metadata": {
    "scrolled": true
   },
   "outputs": [],
   "source": [
    "from pandasql import sqldf\n",
    "pysqldf = lambda q: sqldf(q, globals())\n",
    "reports_frame = pandas.DataFrame(data=data)"
   ]
  },
  {
   "cell_type": "code",
   "execution_count": null,
   "metadata": {
    "scrolled": false
   },
   "outputs": [],
   "source": [
    "# let's compare 131034, 819172, 720858, 229342, 819172, 753641\n",
    "# it seems there are no RCON2170 values for 65513\n",
    "pysqldf('''select rssd, institution, type, name, strftime('%Y', period) as year, sum(value) as \"sum\"\n",
    "                  from reports_frame where mdrm=\"RCON2170\"\n",
    "                  GROUP BY year, rssd\n",
    "                  ORDER BY rssd, year''')"
   ]
  },
  {
   "cell_type": "code",
   "execution_count": null,
   "metadata": {},
   "outputs": [],
   "source": [
    "pysqldf('''select institution, type, name, mdrm, rssd, strftime('%Y', period) as year, sum(value)\n",
    "                  from reports_frame where mdrm=\"RCFD5320\" \n",
    "                  GROUP BY year, rssd\n",
    "                  ORDER BY year, rssd''')"
   ]
  },
  {
   "cell_type": "code",
   "execution_count": null,
   "metadata": {},
   "outputs": [],
   "source": [
    "pysqldf('''select institution, type, name, mdrm, rssd, strftime('%Y', period) as year, sum(value)\n",
    "                  from reports_frame\n",
    "                  GROUP BY year, rssd\n",
    "                  ORDER BY year, rssd, mdrm''')"
   ]
  }
 ],
 "metadata": {
  "kernelspec": {
   "display_name": "Python 3",
   "language": "python",
   "name": "python3"
  },
  "language_info": {
   "codemirror_mode": {
    "name": "ipython",
    "version": 3
   },
   "file_extension": ".py",
   "mimetype": "text/x-python",
   "name": "python",
   "nbconvert_exporter": "python",
   "pygments_lexer": "ipython3",
   "version": "3.5.2"
  }
 },
 "nbformat": 4,
 "nbformat_minor": 1
}
